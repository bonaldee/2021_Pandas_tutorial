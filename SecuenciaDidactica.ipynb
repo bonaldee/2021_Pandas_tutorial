{
  "nbformat": 4,
  "nbformat_minor": 0,
  "metadata": {
    "colab": {
      "name": "SecuenciaDidactica.ipynb",
      "provenance": [],
      "collapsed_sections": [],
      "mount_file_id": "1QL3Vaz8JzsKTkTqSwv6xmcO02yKFbm1w",
      "authorship_tag": "ABX9TyM/TxBOTWi/HubeWLWqGX+8",
      "include_colab_link": true
    },
    "kernelspec": {
      "name": "python3",
      "display_name": "Python 3"
    },
    "language_info": {
      "name": "python"
    }
  },
  "cells": [
    {
      "cell_type": "markdown",
      "metadata": {
        "id": "view-in-github",
        "colab_type": "text"
      },
      "source": [
        "<a href=\"https://colab.research.google.com/github/bonaldee/2021_Pandas_tutorial/blob/main/SecuenciaDidactica.ipynb\" target=\"_parent\"><img src=\"https://colab.research.google.com/assets/colab-badge.svg\" alt=\"Open In Colab\"/></a>"
      ]
    },
    {
      "cell_type": "markdown",
      "source": [
        "# Secuencia didáctica\n",
        "## Proceso de selección como docente de Matemáticas en la Universidad Santo Tomás \n",
        "### Presentado por Eliana Bonalde Marcano\n",
        "\n",
        "\n",
        "Debido a la importancia que ha tomado actualmente la programación para enfrentar los retos de la actualidad, esta secuencia didáctica se enfoca en el uso de la programación de manera que el estudiantado logre utilizar herramientas para abstraer, formular y resolver problemas relacionados con su entorno y con su área de estudio.\n",
        "\n",
        "Para ello, recurro al lenguaje de programación **`Python`**, el cual es legible por cualquier persona con conocimientos básicos de programación y se puede ejecutar en diferentes sistemas operativos como Windows, Linux o Mac Os, simplemente usando el intérprete correspondiente. Por otro lado, es totalmente gratuito ya que es un lenguaje de código abierto y sus aplicaciones no se limitan a un área en concreto.\n",
        "\n",
        "Presento mi plan de trabajo en  **`Notebooks de Python`** para mostrar lo valioso que es esta herramienta, ya que trabajaremos la parte teórica y práctica con el lenguaje **Markdown** y **Latex**, así como también los códigos necesarios para la programación, con su respectiva documentación.  \n",
        "\n",
        "Vale acotar que no debemos dejar a un lado las herramientas clásicas como el tablero, marcador y/o tiza, ya que éstas siempre van a ser necesarias para interactuar en las sesiones de clases. \n",
        "___\n",
        "\n"
      ],
      "metadata": {
        "id": "YxLMhRBOnp66"
      }
    },
    {
      "cell_type": "markdown",
      "source": [
        "# Cálculo Vectorial: Aplicación de los campos vectoriales en Ingeniería\n",
        "\n",
        "**Contenidos:**\n",
        "- Campos vectoriales\n",
        "- Integrales de línea\n",
        "- Independencia de la trayectoria\n",
        "- Teorema de Green\n",
        "- Integrales de superficie \n",
        "- Rotacional y divergencia \n",
        "\n",
        "**Conocimientos previos:** Se fundamenta en el cálculo diferencial, integral y álgebra lineal. \n",
        "\n",
        "**Resultado de aprendizaje:** Al completar la unidad\n",
        "de aprendizaje, el estudiante deberá ser capaz de resolver problemas de aplicación en el campo de la ingeniería por medio de vectores, es decir, resolver problemas en los que intervienen variaciones continuas, problemas geométricos en forma vectorial, representación de campos vectoriales que provengan del gradiente de un campo escalar, así como su divergencia y rotacional, resolver integrales dobles y triples y aplicarlas en el cálculo de áreas y volúmenes.\n",
        "\n",
        "**Justificación:** En esta práctica el alumno desarrolla el pensamiento lógico-matemático al perfil del ingeniero y usa herramientas computacionales para resolver problemas de aplicación.\n",
        "\n",
        "**Recursos bibliográficos:**\n",
        "- Zill, D. G., & Wright, W. S. Cálculo de una variables: Trascendentes tempranas. México D.F. McGraw-Hill.\n",
        "- Stewart, J., & Romo, J. H. Cálculo de varias variables: Trascendentes tempranas. México D.F. Cengage Learning.\n",
        "- Larson, R., & Hostetler, R. . E. Cálculo esencial. México D.F. Cengage Learning.\n",
        "- Purcell, E. J., Varberg, D. Cálculo diferencial e integral. México D.F. Pearson.\n",
        " \n",
        "**Recursos**\n",
        "- Tablero y marcador.\n",
        "- Recursos bibliográficos.\n",
        "- Notebooks de Python.\n",
        "\n",
        "**Método a seguir:**\n",
        "- Gestión del conocimiento: Presentación de los conceptos, teoremas y resultados esenciales para abordar el tema. \n",
        "- Contextualización y metodología:  Profundización en los procedimientos para poder llegar a los resultados esperados. \n",
        "- Aplicación a las diferentes áreas en ingeniería: Aplicación de los conociemientos conceptuales y formulación de problemas en lenguaje matemático para facilitar su análisis y solución.\n",
        "- Uso de la programación: Utilizar el lenguaje de programación Python para facilitar el cálculo numérico y simbólico en el planteamiento y resolución de problemas.\n",
        "\n",
        "**A modo de ejemplo, presento un fragmento de la introducción del tema.**"
      ],
      "metadata": {
        "id": "jddZ71F8qIFe"
      }
    },
    {
      "cell_type": "markdown",
      "source": [
        "#Campo Vectorial\n",
        "\n",
        "Recordemos que un campo vectorial es una función de valores vectoriales $$F(x, y)= P(x, y)i+Q(x, y)j$$ que asocia a cada punto $(x, y)$ un único vector bidimensional. Su dominio es un conjunto de $\\mathbb{R^2}$ y su contradominio es un conjunto de vectores de $V_2$. \n",
        "\n",
        "Si el dominio es un subconjunto de $\\mathbb{R^3}$ y su contradominio es un conjunto de vectores de $V_3$, entonces el campo vectorial en el espacio tridimensional $F(x, y, z)$ es una función $$F(x, y)= P(x, y,z)i+Q(x, y,z)j+R(x,y,z)k$$ que asocia a cada punto $(x, y,z) $ un único vector tridimensional. \n",
        "\n",
        "\n",
        "**Ejemplo:** Consideremos el campo vectorial $F(x,y)=-yi+xj$. A manera de ilustración, tomamos los valores $x=\\pm 1$ o $x=\\pm 2$ y $y=\\pm 1$ o $y= \\pm 2$ y graficaremos el vector $F$ en cada punto formado por la combinación de las coordenadas. \n",
        "\n",
        "\\begin{equation}\n",
        "\\begin{vmatrix}\n",
        "\\textbf{(x,y)} & \\textbf{F(x,y)} \\\\ (1,1) & -i+j \\\\ (1,-1) & i+j\\\\ (-1,1) & -i-j \\\\ (-1,-1) & i-j \\\\ (1,2) & -2i+j \\\\ (1,-2) & 2i+j \\\\ (-1,2) & -2i-j\\\\ (-1,-2) & 2i-j \n",
        "\\end{vmatrix}\\begin{vmatrix}\n",
        "\\textbf{(x,y)} & \\textbf{F(x,y)} \\\\ (2,1) & -i+2j\\\\ (2,-1) & i+2j\\\\ (-2,1) & -i-2j \\\\ (-2,-1) & i-2j\\\\ (2,2) & -2i+2j\\\\(2,-2) & 2i+2j\\\\(-2,2) & -2i-2j\\\\(-2,-2) & 2i-2j\n",
        "\\end{vmatrix} \n",
        "\\end{equation}\n",
        "\n",
        "Podemos trazar algunos vectores a mano, y tener una idea del comportamineto del campo vectorial, sin embargo, esto no es muy útil ni óptimo, razón por el cual utilizaremos algunas librerías de `Python` para representar los campos vectoriales, a saber: [Numpy](https://numpy.org/) que se utiliza para el cálculo numérico y análisis de datos y [Matplotlib](https://matplotlib.org/) para la creación de gráficos.\n",
        "\n",
        "\n"
      ],
      "metadata": {
        "id": "ocNHISH7nTBi"
      }
    },
    {
      "cell_type": "code",
      "source": [
        "import numpy as np \n",
        "import matplotlib.pyplot as plt "
      ],
      "metadata": {
        "id": "TZpZvV90nxUO"
      },
      "execution_count": 2,
      "outputs": []
    },
    {
      "cell_type": "code",
      "source": [
        "#Creamos la cuadrilla XY que contiene las coordenadas de 'x' y 'y' por cada punto.\n",
        "x, y = np.meshgrid(np.linspace(-2, 2, 5),  np.linspace(-2, 2, 5))\n",
        "\n",
        "#Definimos las funciones componentes del campo vectorial\n",
        "u = -y \n",
        "v = x \n",
        "\n",
        "#Trazamos nuestro campo vectorial \n",
        "plt.quiver(x, y, u, v, color='b') \n",
        "\n",
        "#Configuramos las opciones de las gráficas\n",
        "plt.title('Campo vectorial') #título\n",
        "plt.xlim(-3, 3) #límites izquierdo y derecho  \n",
        "plt.ylim(-3, 3) #límites inferior y superior \n",
        "plt.grid() #cuadrilla\n",
        "plt.xlabel('x')\n",
        "plt.ylabel('y')\n",
        "plt.show() "
      ],
      "metadata": {
        "colab": {
          "base_uri": "https://localhost:8080/",
          "height": 295
        },
        "id": "h14RjROGnzsB",
        "outputId": "af65ac1b-7028-4682-f68a-9352c400c481"
      },
      "execution_count": 19,
      "outputs": [
        {
          "output_type": "display_data",
          "data": {
            "text/plain": [
              "<Figure size 432x288 with 1 Axes>"
            ],
            "image/png": "[encoded data removed]"
          },
          "metadata": {
            "needs_background": "light"
          }
        }
      ]
    },
    {
      "cell_type": "code",
      "source": [
        ""
      ],
      "metadata": {
        "id": "PCnD_IAxkZy-"
      },
      "execution_count": null,
      "outputs": []
    }
  ]
}